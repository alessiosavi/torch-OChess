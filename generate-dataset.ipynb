{
 "cells": [
  {
   "cell_type": "code",
   "execution_count": 4,
   "id": "86a3b9a4-b847-4469-9b3d-85d62658803a",
   "metadata": {
    "tags": []
   },
   "outputs": [],
   "source": [
    "# %pip install chess"
   ]
  },
  {
   "cell_type": "code",
   "execution_count": 1,
   "id": "3888333c-714c-4141-a414-3f82c2f14b05",
   "metadata": {
    "ExecuteTime": {
     "end_time": "2024-09-26T15:32:59.380233Z",
     "start_time": "2024-09-26T15:32:59.378052Z"
    },
    "tags": []
   },
   "outputs": [],
   "source": [
    "import os\n",
    "import random\n",
    "from uuid import uuid4\n",
    "\n",
    "import chess.engine\n",
    "import pandas as pd\n",
    "from tqdm.notebook import tqdm\n",
    "\n",
    "import chess\n",
    "\n",
    "STOCKFISH_PATH = \"./stockfish/stockfish-ubuntu-x86-64-avx2\""
   ]
  },
  {
   "cell_type": "code",
   "execution_count": 2,
   "id": "2ea6509f0d186dc6",
   "metadata": {
    "ExecuteTime": {
     "end_time": "2024-09-26T16:00:48.070985Z",
     "start_time": "2024-09-26T16:00:48.060987Z"
    },
    "tags": []
   },
   "outputs": [],
   "source": [
    "def store_data(games: pd.DataFrame, n_moves, time, depth):\n",
    "    v = 1\n",
    "    fname = f\"chess-dataset/dataset-v3/chess-ds-v1-{depth}-{time}-{n_moves}-{len(games)}-{v}.parquet.zstd\"\n",
    "    while os.path.exists(fname):\n",
    "        v += 1\n",
    "        fname = f\"chess-dataset/dataset-v3/chess-ds-v1-{depth}-{time}-{n_moves}-{len(games)}-{v}.parquet.zstd\"\n",
    "\n",
    "    games.to_parquet(fname, index=False, compression=\"zstd\")"
   ]
  },
  {
   "cell_type": "code",
   "execution_count": 3,
   "id": "fa618e7e-8e8a-4563-844c-718d8303edf3",
   "metadata": {
    "tags": []
   },
   "outputs": [],
   "source": [
    "def extract_entries(game: pd.DataFrame,max_depth,max_time):\n",
    "    entries = pd.DataFrame()\n",
    "    for data in pd.DataFrame(game).apply(lambda x: pd.DataFrame(x[\"moves\"]), axis=1):\n",
    "        data[\"game_id\"] = uuid4().__str__()\n",
    "        entries = pd.concat([entries, data])\n",
    "    entries[\"depth\"] = max_depth\n",
    "    entries[\"time\"] = max_time\n",
    "    return entries.reset_index(names=[\"#_turn\"])"
   ]
  },
  {
   "cell_type": "code",
   "execution_count": 4,
   "id": "e0e11710-8d49-4ed6-a26b-2e71ecac1ec0",
   "metadata": {
    "tags": []
   },
   "outputs": [
    {
     "data": {
      "text/plain": [
       "-10000.0"
      ]
     },
     "execution_count": 4,
     "metadata": {},
     "output_type": "execute_result"
    }
   ],
   "source": [
    "import math\n",
    "def _score(x):\n",
    "    sign = 1\n",
    "    if x <= 0:\n",
    "        sign = -1\n",
    "    return sign* (10000 - 2000 * math.log(abs(x)+1))\n",
    "\n",
    "_score(0) # MATE\n"
   ]
  },
  {
   "cell_type": "code",
   "id": "1153e7b5-b172-43ad-b48b-b8d1e305da7c",
   "metadata": {
    "tags": []
   },
   "source": [
    "# Constants\n",
    "MAX_MOVES = 120  # Maximum moves per game\n",
    "MAX_GAMES = 200  # Maximum games per dataset\n",
    "STOCKFISH_DEPTH_LIMIT = 10  # Depth limit for Stockfish calculation\n",
    "MAX_ANALYSIS_TIME = 100  # Time limit for Stockfish analysis in seconds\n",
    "N_BEST_MOVES = 2  # Number of top moves to consider\n",
    "\n",
    "engine = chess.engine.SimpleEngine.popen_uci(STOCKFISH_PATH)\n",
    "\n",
    "# Configure Stockfish engine options\n",
    "def configure_engine(engine):\n",
    "    engine.protocol.send_line(\"setoption name Threads value 4\")\n",
    "    engine.protocol.send_line(\"setoption name Hash value 10000\")\n",
    "    # engine.protocol.send_line(\"setoption name UCI_Elo value 3190\")\n",
    "    pass\n",
    "\n",
    "# Convert mate score to centipawn equivalent\n",
    "def mate_to_centipawn(mate_in_moves):\n",
    "    sign = 1\n",
    "    if mate_in_moves <= 0:\n",
    "        sign = -1\n",
    "    # return sign* (10000 - 2000 * math.log(abs(mate_in_moves)+1)) # log\n",
    "    return sign*10_000/(2**abs(mate_in_moves)+1) # linear\n",
    "\n",
    "# Analyze a position and return the chosen move and score\n",
    "def analyze_position(engine, board, limit, n_best_moves):\n",
    "    results = engine.analyse(board, limit, info=chess.engine.INFO_ALL, multipv=n_best_moves)\n",
    "    valid_results = [res for res in results if res[\"score\"] is not None]\n",
    "    if not valid_results:\n",
    "        return None\n",
    "    \n",
    "    # Randomly pick the second-best move with 30% probability\n",
    "    return random.choice(valid_results[:2]) if random.random() <= 0.3 and len(valid_results) > 1 else valid_results[0]\n",
    "\n",
    "# Gather move information from analysis result\n",
    "def extract_move_data(board, result):\n",
    "    move = result[\"pv\"][0]\n",
    "    score = result[\"score\"].pov(board.turn)\n",
    "    \n",
    "    # Determine score, centipawn for normal, centipawn conversion for mate\n",
    "    if score.is_mate():\n",
    "        score_value = mate_to_centipawn(score.mate())\n",
    "    else:\n",
    "        score_value = score.score() / 100\n",
    "    \n",
    "    return {\n",
    "        \"board\": board.fen(),\n",
    "        \"move\": move.uci(),\n",
    "        \"is_capture\": board.is_capture(move),\n",
    "        \"score\": score_value,\n",
    "        \"raw_score\": str(score),\n",
    "        \"outcome\": None,  # Outcome is filled after game ends\n",
    "        \"legal_moves\": [move.uci() for move in board.legal_moves],\n",
    "        \"legal_captures\": [move.uci() for move in board.generate_legal_captures()],\n",
    "    }\n",
    "\n",
    "# Simulate and collect games\n",
    "def collect_games(engine, max_depth, max_games):\n",
    "    limit = chess.engine.Limit(depth=max_depth, time=MAX_ANALYSIS_TIME)\n",
    "    games = []\n",
    "    \n",
    "    with tqdm(total=max_games, desc=f\"Depth = {max_depth}\") as pb_games:\n",
    "        while len(games) < max_games:\n",
    "            board = chess.Board()\n",
    "            moves = []\n",
    "\n",
    "            # First move is random from Stockfish analysis\n",
    "            first_move_result = random.choice(engine.analyse(board, limit, info=chess.engine.INFO_ALL, multipv=20))\n",
    "            first_move_data = extract_move_data(board, first_move_result)\n",
    "            board.push(first_move_result[\"pv\"][0])\n",
    "            moves.append(first_move_data)\n",
    "\n",
    "            # Play out the game\n",
    "            for turn in range(MAX_MOVES):\n",
    "                result = analyze_position(engine, board, limit, N_BEST_MOVES)\n",
    "                if result is None:\n",
    "                    print(\"No valid results found for analysis.\")\n",
    "                    break\n",
    "                \n",
    "                move_data = extract_move_data(board, result)\n",
    "                board.push(result[\"pv\"][0])\n",
    "                moves.append(move_data)\n",
    "\n",
    "                if board.is_game_over():\n",
    "                    move_data[\"outcome\"] = board.outcome().termination.name\n",
    "                    games.append({\n",
    "                        \"moves\": moves,\n",
    "                        \"result\": move_data[\"outcome\"],\n",
    "                        \"len\": len(moves),\n",
    "                        \"depth\": max_depth,\n",
    "                    })\n",
    "                    pb_games.update(1)\n",
    "                    break\n",
    "    \n",
    "    return games\n",
    "\n",
    "\n",
    "configure_engine(engine)\n",
    "while True:\n",
    "    for depth in range(1,5):\n",
    "        games = collect_games(engine, depth, MAX_GAMES)\n",
    "        entries = extract_entries(games,depth, MAX_ANALYSIS_TIME)\n",
    "        store_data(entries, MAX_MOVES, MAX_ANALYSIS_TIME, depth)"
   ],
   "outputs": [],
   "execution_count": null
  },
  {
   "cell_type": "code",
   "execution_count": null,
   "id": "2a6394c4-8fae-4c56-bd5b-2c2faa4522ae",
   "metadata": {},
   "outputs": [],
   "source": []
  }
 ],
 "metadata": {
  "environment": {
   "kernel": "python3",
   "name": ".m120",
   "type": "gcloud",
   "uri": "us-docker.pkg.dev/deeplearning-platform-release/gcr.io/:m120"
  },
  "kernelspec": {
   "display_name": "ml",
   "language": "python",
   "name": "python3"
  },
  "language_info": {
   "codemirror_mode": {
    "name": "ipython",
    "version": 3
   },
   "file_extension": ".py",
   "mimetype": "text/x-python",
   "name": "python",
   "nbconvert_exporter": "python",
   "pygments_lexer": "ipython3",
   "version": "3.12.6"
  },
  "widgets": {
   "application/vnd.jupyter.widget-state+json": {
    "state": {
     "02558db4c51e4c7f908ee306af9dff3b": {
      "model_module": "@jupyter-widgets/controls",
      "model_module_version": "2.0.0",
      "model_name": "FloatProgressModel",
      "state": {
       "bar_style": "danger",
       "layout": "IPY_MODEL_96bcc803806849d9810e98d7f37a3300",
       "style": "IPY_MODEL_657040adcef740db86cf87d38a88bba7",
       "value": 3
      }
     },
     "05cf7f0f3ea44e91a2a3cd4b568c9c96": {
      "model_module": "@jupyter-widgets/base",
      "model_module_version": "2.0.0",
      "model_name": "LayoutModel",
      "state": {}
     },
     "0d032580e87e448587cb00ee8870999e": {
      "model_module": "@jupyter-widgets/controls",
      "model_module_version": "2.0.0",
      "model_name": "HTMLStyleModel",
      "state": {
       "description_width": "",
       "font_size": null,
       "text_color": null
      }
     },
     "20e7f744b9fa4d339fcbd852d41b99a1": {
      "model_module": "@jupyter-widgets/controls",
      "model_module_version": "2.0.0",
      "model_name": "ProgressStyleModel",
      "state": {
       "description_width": ""
      }
     },
     "2175f4d93b8e4c1d9b8add389bc0bc4b": {
      "model_module": "@jupyter-widgets/base",
      "model_module_version": "2.0.0",
      "model_name": "LayoutModel",
      "state": {}
     },
     "29a96e53e7f54a838229e4f46fc19b8b": {
      "model_module": "@jupyter-widgets/controls",
      "model_module_version": "2.0.0",
      "model_name": "HTMLModel",
      "state": {
       "layout": "IPY_MODEL_3830f397ead143799bf30265430a5da6",
       "style": "IPY_MODEL_b73218380dac49e6bc6972061a9f26a7",
       "value": " 58%"
      }
     },
     "2f14a6d258d64f02b93da1a97ae7ee26": {
      "model_module": "@jupyter-widgets/controls",
      "model_module_version": "2.0.0",
      "model_name": "HTMLModel",
      "state": {
       "layout": "IPY_MODEL_798d08b666ba44fa9b1377f72cdb7130",
       "style": "IPY_MODEL_d4111d19d0ed4731a6d53d70d5d758e1",
       "value": " 3/100 [00:06&lt;03:01,  1.87s/it]"
      }
     },
     "3830f397ead143799bf30265430a5da6": {
      "model_module": "@jupyter-widgets/base",
      "model_module_version": "2.0.0",
      "model_name": "LayoutModel",
      "state": {}
     },
     "593feb54765947ae9df8dfad38bbd5a1": {
      "model_module": "@jupyter-widgets/controls",
      "model_module_version": "2.0.0",
      "model_name": "FloatProgressModel",
      "state": {
       "layout": "IPY_MODEL_d5403da9769b437d8dafe1366cd5b969",
       "style": "IPY_MODEL_76440fab105b47b09756987a300f3fbc",
       "value": 58
      }
     },
     "5990208c9cea4922aaf7e156373e9e0e": {
      "model_module": "@jupyter-widgets/base",
      "model_module_version": "2.0.0",
      "model_name": "LayoutModel",
      "state": {}
     },
     "5e60efa16dd84e67a95ff1b3c385e7c4": {
      "model_module": "@jupyter-widgets/base",
      "model_module_version": "2.0.0",
      "model_name": "LayoutModel",
      "state": {}
     },
     "657040adcef740db86cf87d38a88bba7": {
      "model_module": "@jupyter-widgets/controls",
      "model_module_version": "2.0.0",
      "model_name": "ProgressStyleModel",
      "state": {
       "description_width": ""
      }
     },
     "68bd49cb61754e68b026803a56f5e415": {
      "model_module": "@jupyter-widgets/controls",
      "model_module_version": "2.0.0",
      "model_name": "HBoxModel",
      "state": {
       "children": [
        "IPY_MODEL_cf16df9231d643bc80344a6f547be11b",
        "IPY_MODEL_d09435792dea4bf3aa89f3c23defb8e2",
        "IPY_MODEL_e7eb8061feb94305b8e0c029ed9db777"
       ],
       "layout": "IPY_MODEL_b8b700814498475d81f0d13609d8e2f0"
      }
     },
     "6da847a3365d4f7181268daf0357986d": {
      "model_module": "@jupyter-widgets/controls",
      "model_module_version": "2.0.0",
      "model_name": "ProgressStyleModel",
      "state": {
       "description_width": ""
      }
     },
     "76440fab105b47b09756987a300f3fbc": {
      "model_module": "@jupyter-widgets/controls",
      "model_module_version": "2.0.0",
      "model_name": "ProgressStyleModel",
      "state": {
       "description_width": ""
      }
     },
     "76630be79f3c48b89afca5c158d68afa": {
      "model_module": "@jupyter-widgets/base",
      "model_module_version": "2.0.0",
      "model_name": "LayoutModel",
      "state": {}
     },
     "798d08b666ba44fa9b1377f72cdb7130": {
      "model_module": "@jupyter-widgets/base",
      "model_module_version": "2.0.0",
      "model_name": "LayoutModel",
      "state": {}
     },
     "84b88b4c7d844fde9fb0983c5252a1b3": {
      "model_module": "@jupyter-widgets/controls",
      "model_module_version": "2.0.0",
      "model_name": "HTMLStyleModel",
      "state": {
       "description_width": "",
       "font_size": null,
       "text_color": null
      }
     },
     "86cd48a48bb84e948b57fb4b3004b417": {
      "model_module": "@jupyter-widgets/controls",
      "model_module_version": "2.0.0",
      "model_name": "HTMLStyleModel",
      "state": {
       "description_width": "",
       "font_size": null,
       "text_color": null
      }
     },
     "911400414ad64593a6c505bf8a78787d": {
      "model_module": "@jupyter-widgets/controls",
      "model_module_version": "2.0.0",
      "model_name": "HTMLStyleModel",
      "state": {
       "description_width": "",
       "font_size": null,
       "text_color": null
      }
     },
     "96bcc803806849d9810e98d7f37a3300": {
      "model_module": "@jupyter-widgets/base",
      "model_module_version": "2.0.0",
      "model_name": "LayoutModel",
      "state": {}
     },
     "9f2e66b7eda241e5a81be7cac4d59c24": {
      "model_module": "@jupyter-widgets/base",
      "model_module_version": "2.0.0",
      "model_name": "LayoutModel",
      "state": {}
     },
     "aa136ed3864346079557f8f3a6b5c45a": {
      "model_module": "@jupyter-widgets/controls",
      "model_module_version": "2.0.0",
      "model_name": "HTMLModel",
      "state": {
       "layout": "IPY_MODEL_5e60efa16dd84e67a95ff1b3c385e7c4",
       "style": "IPY_MODEL_d7dd195196834af9bea489287eb9746b",
       "value": " 15/100 [00:44&lt;06:01,  4.25s/it]"
      }
     },
     "aca435a60e9d426988a50df6a8b9489a": {
      "model_module": "@jupyter-widgets/controls",
      "model_module_version": "2.0.0",
      "model_name": "HTMLModel",
      "state": {
       "layout": "IPY_MODEL_cf6044f38ea74f9eb24502e8d74f52fe",
       "style": "IPY_MODEL_c90ac099518346c3bd2b464b4a1351bd",
       "value": "  3%"
      }
     },
     "b73218380dac49e6bc6972061a9f26a7": {
      "model_module": "@jupyter-widgets/controls",
      "model_module_version": "2.0.0",
      "model_name": "HTMLStyleModel",
      "state": {
       "description_width": "",
       "font_size": null,
       "text_color": null
      }
     },
     "b8b700814498475d81f0d13609d8e2f0": {
      "model_module": "@jupyter-widgets/base",
      "model_module_version": "2.0.0",
      "model_name": "LayoutModel",
      "state": {}
     },
     "c316426e422546d58522d8ae6a7b9952": {
      "model_module": "@jupyter-widgets/controls",
      "model_module_version": "2.0.0",
      "model_name": "HTMLModel",
      "state": {
       "layout": "IPY_MODEL_05cf7f0f3ea44e91a2a3cd4b568c9c96",
       "style": "IPY_MODEL_86cd48a48bb84e948b57fb4b3004b417",
       "value": " 58/100 [02:38&lt;01:05,  1.56s/it]"
      }
     },
     "c90ac099518346c3bd2b464b4a1351bd": {
      "model_module": "@jupyter-widgets/controls",
      "model_module_version": "2.0.0",
      "model_name": "HTMLStyleModel",
      "state": {
       "description_width": "",
       "font_size": null,
       "text_color": null
      }
     },
     "cf16df9231d643bc80344a6f547be11b": {
      "model_module": "@jupyter-widgets/controls",
      "model_module_version": "2.0.0",
      "model_name": "HTMLModel",
      "state": {
       "layout": "IPY_MODEL_ef08223905e04eefa6077c62132586fd",
       "style": "IPY_MODEL_0d032580e87e448587cb00ee8870999e",
       "value": "  0%"
      }
     },
     "cf6044f38ea74f9eb24502e8d74f52fe": {
      "model_module": "@jupyter-widgets/base",
      "model_module_version": "2.0.0",
      "model_name": "LayoutModel",
      "state": {}
     },
     "d09435792dea4bf3aa89f3c23defb8e2": {
      "model_module": "@jupyter-widgets/controls",
      "model_module_version": "2.0.0",
      "model_name": "FloatProgressModel",
      "state": {
       "bar_style": "danger",
       "layout": "IPY_MODEL_76630be79f3c48b89afca5c158d68afa",
       "max": 5000,
       "style": "IPY_MODEL_6da847a3365d4f7181268daf0357986d",
       "value": 44
      }
     },
     "d25dbe685fd44eefbbb5bc95e6344b9d": {
      "model_module": "@jupyter-widgets/controls",
      "model_module_version": "2.0.0",
      "model_name": "HBoxModel",
      "state": {
       "children": [
        "IPY_MODEL_29a96e53e7f54a838229e4f46fc19b8b",
        "IPY_MODEL_593feb54765947ae9df8dfad38bbd5a1",
        "IPY_MODEL_c316426e422546d58522d8ae6a7b9952"
       ],
       "layout": "IPY_MODEL_fbc4eb89a9d04009b6d19ab16a01b303"
      }
     },
     "d4111d19d0ed4731a6d53d70d5d758e1": {
      "model_module": "@jupyter-widgets/controls",
      "model_module_version": "2.0.0",
      "model_name": "HTMLStyleModel",
      "state": {
       "description_width": "",
       "font_size": null,
       "text_color": null
      }
     },
     "d5403da9769b437d8dafe1366cd5b969": {
      "model_module": "@jupyter-widgets/base",
      "model_module_version": "2.0.0",
      "model_name": "LayoutModel",
      "state": {}
     },
     "d71ecb3cc4c04baf88ee99a445853a6c": {
      "model_module": "@jupyter-widgets/controls",
      "model_module_version": "2.0.0",
      "model_name": "HBoxModel",
      "state": {
       "children": [
        "IPY_MODEL_f33e4fee8e0c4587a68c9eccc982b08a",
        "IPY_MODEL_f849508a3ebc4349bedb9b4cca1567c0",
        "IPY_MODEL_aa136ed3864346079557f8f3a6b5c45a"
       ],
       "layout": "IPY_MODEL_eb9db474acba4dab9fd5d197ebb98ae9"
      }
     },
     "d7dd195196834af9bea489287eb9746b": {
      "model_module": "@jupyter-widgets/controls",
      "model_module_version": "2.0.0",
      "model_name": "HTMLStyleModel",
      "state": {
       "description_width": "",
       "font_size": null,
       "text_color": null
      }
     },
     "e7eb8061feb94305b8e0c029ed9db777": {
      "model_module": "@jupyter-widgets/controls",
      "model_module_version": "2.0.0",
      "model_name": "HTMLModel",
      "state": {
       "layout": "IPY_MODEL_f2b21220502444d6a1da2a87bc1355a5",
       "style": "IPY_MODEL_84b88b4c7d844fde9fb0983c5252a1b3",
       "value": " 44/5000 [2:05:29&lt;228:45:44, 166.17s/it]"
      }
     },
     "eb9db474acba4dab9fd5d197ebb98ae9": {
      "model_module": "@jupyter-widgets/base",
      "model_module_version": "2.0.0",
      "model_name": "LayoutModel",
      "state": {}
     },
     "ef08223905e04eefa6077c62132586fd": {
      "model_module": "@jupyter-widgets/base",
      "model_module_version": "2.0.0",
      "model_name": "LayoutModel",
      "state": {}
     },
     "f2b21220502444d6a1da2a87bc1355a5": {
      "model_module": "@jupyter-widgets/base",
      "model_module_version": "2.0.0",
      "model_name": "LayoutModel",
      "state": {}
     },
     "f33e4fee8e0c4587a68c9eccc982b08a": {
      "model_module": "@jupyter-widgets/controls",
      "model_module_version": "2.0.0",
      "model_name": "HTMLModel",
      "state": {
       "layout": "IPY_MODEL_5990208c9cea4922aaf7e156373e9e0e",
       "style": "IPY_MODEL_911400414ad64593a6c505bf8a78787d",
       "value": " 15%"
      }
     },
     "f849508a3ebc4349bedb9b4cca1567c0": {
      "model_module": "@jupyter-widgets/controls",
      "model_module_version": "2.0.0",
      "model_name": "FloatProgressModel",
      "state": {
       "layout": "IPY_MODEL_9f2e66b7eda241e5a81be7cac4d59c24",
       "style": "IPY_MODEL_20e7f744b9fa4d339fcbd852d41b99a1",
       "value": 15
      }
     },
     "fbc4eb89a9d04009b6d19ab16a01b303": {
      "model_module": "@jupyter-widgets/base",
      "model_module_version": "2.0.0",
      "model_name": "LayoutModel",
      "state": {}
     },
     "fbce1354516a4b4a99754bf59839ac7b": {
      "model_module": "@jupyter-widgets/controls",
      "model_module_version": "2.0.0",
      "model_name": "HBoxModel",
      "state": {
       "children": [
        "IPY_MODEL_aca435a60e9d426988a50df6a8b9489a",
        "IPY_MODEL_02558db4c51e4c7f908ee306af9dff3b",
        "IPY_MODEL_2f14a6d258d64f02b93da1a97ae7ee26"
       ],
       "layout": "IPY_MODEL_2175f4d93b8e4c1d9b8add389bc0bc4b"
      }
     }
    },
    "version_major": 2,
    "version_minor": 0
   }
  }
 },
 "nbformat": 4,
 "nbformat_minor": 5
}
